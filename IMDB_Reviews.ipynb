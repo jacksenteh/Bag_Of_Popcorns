{
  "nbformat": 4,
  "nbformat_minor": 0,
  "metadata": {
    "kernelspec": {
      "name": "python3",
      "display_name": "Python 3"
    },
    "language_info": {
      "codemirror_mode": {
        "name": "ipython",
        "version": 3
      },
      "file_extension": ".py",
      "mimetype": "text/x-python",
      "name": "python",
      "nbconvert_exporter": "python",
      "pygments_lexer": "ipython3",
      "version": "3.7.3"
    },
    "colab": {
      "name": "IMDB_Reviews.ipynb",
      "provenance": [],
      "collapsed_sections": []
    },
    "accelerator": "GPU"
  },
  "cells": [
    {
      "cell_type": "code",
      "metadata": {
        "id": "kV4vRPUf3Z3-",
        "colab_type": "code",
        "colab": {
          "base_uri": "https://localhost:8080/",
          "height": 119
        },
        "outputId": "47f09796-4f94-4350-d112-1014b55e92ee"
      },
      "source": [
        "# Ensure TensorFlow 2.0 is installed.\n",
        "!pip install -q tf-nightly-2.0-preview\n",
        "# Load the TensorBoard notebook extension.\n",
        "%load_ext tensorboard"
      ],
      "execution_count": 1,
      "outputs": [
        {
          "output_type": "stream",
          "text": [
            "\u001b[K     |████████████████████████████████| 95.2MB 119kB/s \n",
            "\u001b[K     |████████████████████████████████| 3.8MB 38.7MB/s \n",
            "\u001b[K     |████████████████████████████████| 450kB 45.3MB/s \n",
            "\u001b[K     |████████████████████████████████| 81kB 13.6MB/s \n",
            "\u001b[31mERROR: google-colab 1.0.0 has requirement google-auth~=1.4.0, but you'll have google-auth 1.7.1 which is incompatible.\u001b[0m\n",
            "\u001b[31mERROR: tb-nightly 2.1.0a20191116 has requirement grpcio>=1.24.3, but you'll have grpcio 1.15.0 which is incompatible.\u001b[0m\n",
            "\u001b[?25h"
          ],
          "name": "stdout"
        }
      ]
    },
    {
      "cell_type": "code",
      "metadata": {
        "id": "RjNUVkyRAy7S",
        "colab_type": "code",
        "outputId": "8ffe1e51-da06-482e-e3b0-c0f491495c0d",
        "colab": {
          "base_uri": "https://localhost:8080/",
          "height": 340
        }
      },
      "source": [
        "!nvidia-smi\n",
        "# !pip install tensorboardcolab\n",
        "!mkdir lib\n",
        "!mv data_preprocess.py evaluate.py lib\n",
        "\n",
        "import warnings\n",
        "warnings.filterwarnings('ignore')\n",
        "\n",
        "from google.colab import drive\n",
        "drive.mount('/content/gdrive')\n",
        "\n",
        "# from tensorboardcolab import TensorBoardColab\n",
        "# tbc = TensorBoardColab(graph_path='/content/sample_data')"
      ],
      "execution_count": 5,
      "outputs": [
        {
          "output_type": "stream",
          "text": [
            "Sun Nov 17 10:54:10 2019       \n",
            "+-----------------------------------------------------------------------------+\n",
            "| NVIDIA-SMI 430.50       Driver Version: 418.67       CUDA Version: 10.1     |\n",
            "|-------------------------------+----------------------+----------------------+\n",
            "| GPU  Name        Persistence-M| Bus-Id        Disp.A | Volatile Uncorr. ECC |\n",
            "| Fan  Temp  Perf  Pwr:Usage/Cap|         Memory-Usage | GPU-Util  Compute M. |\n",
            "|===============================+======================+======================|\n",
            "|   0  Tesla P100-PCIE...  Off  | 00000000:00:04.0 Off |                    0 |\n",
            "| N/A   34C    P0    26W / 250W |      0MiB / 16280MiB |      0%      Default |\n",
            "+-------------------------------+----------------------+----------------------+\n",
            "                                                                               \n",
            "+-----------------------------------------------------------------------------+\n",
            "| Processes:                                                       GPU Memory |\n",
            "|  GPU       PID   Type   Process name                             Usage      |\n",
            "|=============================================================================|\n",
            "|  No running processes found                                                 |\n",
            "+-----------------------------------------------------------------------------+\n",
            "mkdir: cannot create directory ‘lib’: File exists\n",
            "Drive already mounted at /content/gdrive; to attempt to forcibly remount, call drive.mount(\"/content/gdrive\", force_remount=True).\n"
          ],
          "name": "stdout"
        }
      ]
    },
    {
      "cell_type": "code",
      "metadata": {
        "id": "2RrFNl5LATCm",
        "colab_type": "code",
        "outputId": "c92694cd-78a8-463a-be64-b4e31b07fc0d",
        "colab": {
          "base_uri": "https://localhost:8080/",
          "height": 136
        }
      },
      "source": [
        "import re\n",
        "import nltk\n",
        "import sklearn\n",
        "import numpy             as np\n",
        "import pandas            as pd\n",
        "import seaborn           as sns\n",
        "import matplotlib.pyplot as plt\n",
        "\n",
        "from pprint              import pprint\n",
        "from bokeh.io            import output_notebook, show\n",
        "from bokeh.models        import ColumnDataSource\n",
        "from bokeh.palettes      import Spectral6\n",
        "from bokeh.plotting      import figure\n",
        "from lib.data_preprocess import Preprocess\n",
        "from nltk.corpus         import stopwords \n",
        "from nltk.tokenize       import word_tokenize\n",
        "from nltk.stem           import WordNetLemmatizer\n",
        "from bs4                 import BeautifulSoup\n",
        "from PIL                 import Image\n",
        "from wordcloud           import WordCloud, STOPWORDS, ImageColorGenerator\n",
        "from tqdm                import tqdm_notebook as tqdm\n",
        "from scipy               import stats\n",
        "\n",
        "# plot setting\n",
        "output_notebook()\n",
        "sns.set_style('whitegrid')\n",
        "param = {'figure.figsize': (16, 8),\n",
        "         'axes.titlesize': 18,\n",
        "         'axes.labelsize': 16}\n",
        "plt.rcParams.update(param)\n",
        "\n",
        "# ntlk setting\n",
        "nltk.download('stopwords')\n",
        "nltk.download('wordnet')\n",
        "nltk.download('punkt')\n",
        "\n",
        "# %load_ext tensorboard"
      ],
      "execution_count": 6,
      "outputs": [
        {
          "output_type": "stream",
          "text": [
            "[nltk_data] Downloading package stopwords to /root/nltk_data...\n",
            "[nltk_data]   Unzipping corpora/stopwords.zip.\n",
            "[nltk_data] Downloading package wordnet to /root/nltk_data...\n",
            "[nltk_data]   Unzipping corpora/wordnet.zip.\n",
            "[nltk_data] Downloading package punkt to /root/nltk_data...\n",
            "[nltk_data]   Unzipping tokenizers/punkt.zip.\n"
          ],
          "name": "stdout"
        },
        {
          "output_type": "execute_result",
          "data": {
            "text/plain": [
              "True"
            ]
          },
          "metadata": {
            "tags": []
          },
          "execution_count": 6
        }
      ]
    },
    {
      "cell_type": "markdown",
      "metadata": {
        "id": "PaIix5dPATCr",
        "colab_type": "text"
      },
      "source": [
        "# Data preprocessing"
      ]
    },
    {
      "cell_type": "code",
      "metadata": {
        "id": "M3KDYDYBATCs",
        "colab_type": "code",
        "outputId": "4ad20565-182b-4f59-d0c8-3652a5415e84",
        "colab": {
          "base_uri": "https://localhost:8080/",
          "height": 714
        }
      },
      "source": [
        "label_path   = 'gdrive/My Drive/dataset/IMDB/labeledTrainData.tsv'\n",
        "unlabel_path = 'gdrive/My Drive/dataset/IMDB/unlabeledTrainData.tsv'\n",
        "add_path     = 'gdrive/My Drive/dataset/IMDB/imdb_master.csv'\n",
        "test_path    = 'gdrive/My Drive/dataset/IMDB/testData.tsv'\n",
        "\n",
        "# read in the dataset\n",
        "pp                = Preprocess()\n",
        "unlabel_df        = pd.read_csv(unlabel_path, error_bad_lines=False, delimiter='\\t')\n",
        "add_df            = pd.read_csv(add_path, error_bad_lines=False, delimiter=',', encoding='latin_1')[['review', 'label']]\n",
        "train_df, test_df = pp.read_file(label_path, test_path, sep='\\t')\n",
        "\n",
        "# rename the add_df's column name to match with IMDB dataset\n",
        "add_df.columns      = ['review','sentiment']\n",
        "add_df['sentiment'] = add_df['sentiment'].apply(lambda x: 0 if x == 'neg' else 1)\n",
        "\n",
        "# record the twitter and train dataframe size\n",
        "add_size   = add_df.shape[0]\n",
        "label_size = train_df.shape[0]\n",
        "\n",
        "# check for missing value\n",
        "print('Train set:')\n",
        "pp.check_na(train_df)\n",
        "print()\n",
        "\n",
        "print('Unlabel data set:')\n",
        "pp.check_na(unlabel_df)\n",
        "print()\n",
        "\n",
        "print('Additional dataset:')\n",
        "pp.check_na(add_df)\n",
        "print()\n",
        "\n",
        "print('Test set:')\n",
        "pp.check_na(test_df)"
      ],
      "execution_count": 7,
      "outputs": [
        {
          "output_type": "stream",
          "text": [
            "b'Skipping line 43043: expected 2 fields, saw 3\\n'\n"
          ],
          "name": "stderr"
        },
        {
          "output_type": "stream",
          "text": [
            "Train set:\n",
            "============== Data Info ==============\n",
            "Number of rows: 25000\n",
            "Number of cols: 3\n",
            "========== Missing Data Info ==========\n",
            "     Columns  Count DataType\n",
            "0         id      0   object\n",
            "1  sentiment      0    int64\n",
            "2     review      0   object\n",
            "=======================================\n",
            "\n",
            "Unlabel data set:\n",
            "============== Data Info ==============\n",
            "Number of rows: 49998\n",
            "Number of cols: 2\n",
            "========== Missing Data Info ==========\n",
            "  Columns  Count DataType\n",
            "0      id      0   object\n",
            "1  review      0   object\n",
            "=======================================\n",
            "\n",
            "Additional dataset:\n",
            "============== Data Info ==============\n",
            "Number of rows: 100000\n",
            "Number of cols: 2\n",
            "========== Missing Data Info ==========\n",
            "     Columns  Count DataType\n",
            "0     review      0   object\n",
            "1  sentiment      0    int64\n",
            "=======================================\n",
            "\n",
            "Test set:\n",
            "============== Data Info ==============\n",
            "Number of rows: 25000\n",
            "Number of cols: 2\n",
            "========== Missing Data Info ==========\n",
            "  Columns  Count DataType\n",
            "0      id      0   object\n",
            "1  review      0   object\n",
            "=======================================\n"
          ],
          "name": "stdout"
        }
      ]
    },
    {
      "cell_type": "code",
      "metadata": {
        "scrolled": false,
        "id": "0Z7KpHAjATCy",
        "colab_type": "code",
        "outputId": "5c2436da-bf23-4a9d-9127-b6428149191e",
        "colab": {
          "base_uri": "https://localhost:8080/",
          "height": 68
        }
      },
      "source": [
        "def text_process(df):\n",
        "    # convert it to lower space\n",
        "    df.review = df.review.str.lower()\n",
        "\n",
        "    # pattern\n",
        "    nw_removal  = lambda review: re.sub(r'[^A-Za-z\\s]', ' ', review)\n",
        "    spc_removal = lambda review: re.sub(r'[\\s]+'      , ' ', review)\n",
        "    tag_removal = lambda review: BeautifulSoup(review, 'lxml').get_text()\n",
        "\n",
        "    # replace words or substrings which match the pattern\n",
        "    df.review = df.review.apply(tag_removal)\n",
        "    df.review = df.review.apply(nw_removal)\n",
        "    df.review = df.review.apply(spc_removal)\n",
        "    \n",
        "    return df\n",
        "\n",
        "def lemmatize(review):\n",
        "    lemmatization = WordNetLemmatizer()\n",
        "    stop_words    = set(stopwords.words('english'))\n",
        "    \n",
        "    # tokenize, lemmatize and stop words removal\n",
        "    tokens            = word_tokenize(review)\n",
        "    lemmatized_tokens = list(map(lambda x: lemmatization.lemmatize(x, pos='v'), tokens))\n",
        "    meaningful_tokens = list(filter(lambda x: not x in stop_words, lemmatized_tokens))\n",
        "    \n",
        "    return meaningful_tokens\n",
        "\n",
        "# add in the additional dataset\n",
        "add_df   = pd.concat([add_df.loc[add_df['sentiment'] == 0], add_df[add_df['sentiment'] == 1][:25000]])\n",
        "train_df = pd.concat([train_df, add_df, unlabel_df,])\n",
        "add_size = add_df.shape[0]\n",
        "\n",
        "# clean the reviews\n",
        "train_df = text_process(train_df)\n",
        "test_df  = text_process(test_df)\n",
        "\n",
        "# lemmatize the reviews\n",
        "train_df['review_tokenized'] = list(map(lemmatize, train_df.review.values.copy()))\n",
        "test_df['review_tokenized']  = list(map(lemmatize, test_df.review.values.copy()))\n",
        "all_reviews                  = pd.concat([train_df['review_tokenized'], test_df['review_tokenized']]).to_numpy()\n",
        "\n",
        "print('='*30)\n",
        "print('Vocabulary Size: {}'.format(all_reviews.shape))\n",
        "print('='*30)"
      ],
      "execution_count": 8,
      "outputs": [
        {
          "output_type": "stream",
          "text": [
            "==============================\n",
            "Vocabulary Size: (99998,)\n",
            "==============================\n"
          ],
          "name": "stdout"
        }
      ]
    },
    {
      "cell_type": "code",
      "metadata": {
        "id": "SYa6sGj7MXSp",
        "colab_type": "code",
        "outputId": "4ef9b450-1fc9-4b7c-9eb2-dcfa7d8d8d41",
        "colab": {
          "base_uri": "https://localhost:8080/",
          "height": 359
        }
      },
      "source": [
        "display(train_df[['id', 'review', 'sentiment']].head(10))"
      ],
      "execution_count": 9,
      "outputs": [
        {
          "output_type": "display_data",
          "data": {
            "text/html": [
              "<div>\n",
              "<style scoped>\n",
              "    .dataframe tbody tr th:only-of-type {\n",
              "        vertical-align: middle;\n",
              "    }\n",
              "\n",
              "    .dataframe tbody tr th {\n",
              "        vertical-align: top;\n",
              "    }\n",
              "\n",
              "    .dataframe thead th {\n",
              "        text-align: right;\n",
              "    }\n",
              "</style>\n",
              "<table border=\"1\" class=\"dataframe\">\n",
              "  <thead>\n",
              "    <tr style=\"text-align: right;\">\n",
              "      <th></th>\n",
              "      <th>id</th>\n",
              "      <th>review</th>\n",
              "      <th>sentiment</th>\n",
              "    </tr>\n",
              "  </thead>\n",
              "  <tbody>\n",
              "    <tr>\n",
              "      <th>0</th>\n",
              "      <td>5814_8</td>\n",
              "      <td>with all this stuff going down at the moment w...</td>\n",
              "      <td>1.0</td>\n",
              "    </tr>\n",
              "    <tr>\n",
              "      <th>1</th>\n",
              "      <td>2381_9</td>\n",
              "      <td>the classic war of the worlds by timothy hine...</td>\n",
              "      <td>1.0</td>\n",
              "    </tr>\n",
              "    <tr>\n",
              "      <th>2</th>\n",
              "      <td>7759_3</td>\n",
              "      <td>the film starts with a manager nicholas bell g...</td>\n",
              "      <td>0.0</td>\n",
              "    </tr>\n",
              "    <tr>\n",
              "      <th>3</th>\n",
              "      <td>3630_4</td>\n",
              "      <td>it must be assumed that those who praised this...</td>\n",
              "      <td>0.0</td>\n",
              "    </tr>\n",
              "    <tr>\n",
              "      <th>4</th>\n",
              "      <td>9495_8</td>\n",
              "      <td>superbly trashy and wondrously unpretentious s...</td>\n",
              "      <td>1.0</td>\n",
              "    </tr>\n",
              "    <tr>\n",
              "      <th>5</th>\n",
              "      <td>8196_8</td>\n",
              "      <td>i dont know why people think this is such a ba...</td>\n",
              "      <td>1.0</td>\n",
              "    </tr>\n",
              "    <tr>\n",
              "      <th>6</th>\n",
              "      <td>7166_2</td>\n",
              "      <td>this movie could have been very good but comes...</td>\n",
              "      <td>0.0</td>\n",
              "    </tr>\n",
              "    <tr>\n",
              "      <th>7</th>\n",
              "      <td>10633_1</td>\n",
              "      <td>i watched this video at a friend s house i m g...</td>\n",
              "      <td>0.0</td>\n",
              "    </tr>\n",
              "    <tr>\n",
              "      <th>8</th>\n",
              "      <td>319_1</td>\n",
              "      <td>a friend of mine bought this film for and even...</td>\n",
              "      <td>0.0</td>\n",
              "    </tr>\n",
              "    <tr>\n",
              "      <th>9</th>\n",
              "      <td>8713_10</td>\n",
              "      <td>this movie is full of references like mad max ...</td>\n",
              "      <td>1.0</td>\n",
              "    </tr>\n",
              "  </tbody>\n",
              "</table>\n",
              "</div>"
            ],
            "text/plain": [
              "        id                                             review  sentiment\n",
              "0   5814_8  with all this stuff going down at the moment w...        1.0\n",
              "1   2381_9   the classic war of the worlds by timothy hine...        1.0\n",
              "2   7759_3  the film starts with a manager nicholas bell g...        0.0\n",
              "3   3630_4  it must be assumed that those who praised this...        0.0\n",
              "4   9495_8  superbly trashy and wondrously unpretentious s...        1.0\n",
              "5   8196_8  i dont know why people think this is such a ba...        1.0\n",
              "6   7166_2  this movie could have been very good but comes...        0.0\n",
              "7  10633_1  i watched this video at a friend s house i m g...        0.0\n",
              "8    319_1  a friend of mine bought this film for and even...        0.0\n",
              "9  8713_10  this movie is full of references like mad max ...        1.0"
            ]
          },
          "metadata": {
            "tags": []
          }
        }
      ]
    },
    {
      "cell_type": "code",
      "metadata": {
        "scrolled": false,
        "id": "93oe7s2cATC0",
        "colab_type": "code",
        "outputId": "cbcead9f-5f49-4941-8a4d-fa92f5646357",
        "colab": {
          "base_uri": "https://localhost:8080/",
          "height": 414
        }
      },
      "source": [
        "labels, counts = np.unique(train_df.sentiment.values, return_counts=True)\n",
        "labels         = ['sentiment_' + str(label) for label in labels]\n",
        "\n",
        "plt.figure(figsize=(8,6))\n",
        "plt.title('Sentiment Labels Distribution')\n",
        "plt.xlabel('Labels')\n",
        "plt.ylabel('Number of Count')\n",
        "sns.barplot(x=labels, y=counts)\n",
        "plt.show()\n",
        "\n"
      ],
      "execution_count": 10,
      "outputs": [
        {
          "output_type": "display_data",
          "data": {
            "image/png": "[encoded data removed]",
            "text/plain": [
              "<Figure size 576x432 with 1 Axes>"
            ]
          },
          "metadata": {
            "tags": []
          }
        }
      ]
    },
    {
      "cell_type": "code",
      "metadata": {
        "id": "FB7arITvATC-",
        "colab_type": "code",
        "outputId": "c848ddbc-b87d-4a4b-85c1-f2edb5c3bed3",
        "colab": {
          "base_uri": "https://localhost:8080/",
          "height": 522
        }
      },
      "source": [
        "review_length = np.array(list(map(len, all_reviews.copy())))\n",
        "mode          = stats.mode(review_length)[0][0]\n",
        "mean          = np.mean(review_length)\n",
        "median        = np.median(review_length)\n",
        "ymin, ymax    = 0, 0.015\n",
        "\n",
        "plt.figure(figsize=(16,8))\n",
        "plt.title('Words per Review')\n",
        "plt.xlabel('Number of Words in each Review')\n",
        "plt.xlim([0, np.percentile(review_length, 95)])  # check where the 95% of distribution lies on\n",
        "plt.ylim([0, ymax])\n",
        "\n",
        "plt.vlines(mode  , ymin=0, ymax=ymax, linestyle='--', linewidth=4, colors='red'  , label=f'mode={mode}')\n",
        "plt.vlines(mean  , ymin=0, ymax=ymax, linestyle='--', linewidth=4, colors='blue' , label=f'mean={mean}')\n",
        "plt.vlines(median, ymin=0, ymax=ymax, linestyle='--', linewidth=4, colors='green', label=f'median={median}')\n",
        "sns.distplot(review_length, bins=review_length.max())\n",
        "\n",
        "plt.legend()\n",
        "plt.show()\n"
      ],
      "execution_count": 11,
      "outputs": [
        {
          "output_type": "display_data",
          "data": {
            "image/png": "[encoded data removed]",
            "text/plain": [
              "<Figure size 1152x576 with 1 Axes>"
            ]
          },
          "metadata": {
            "tags": []
          }
        }
      ]
    },
    {
      "cell_type": "code",
      "metadata": {
        "id": "KbjjrpF2ATDD",
        "colab_type": "code",
        "colab": {}
      },
      "source": [
        "from gensim.models import Phrases\n",
        "\n",
        "bigrams  = Phrases(sentences=all_reviews)\n",
        "trigrams = Phrases(sentences=bigrams[all_reviews])"
      ],
      "execution_count": 0,
      "outputs": []
    },
    {
      "cell_type": "markdown",
      "metadata": {
        "id": "ibG9Fj-9VyAK",
        "colab_type": "text"
      },
      "source": [
        "# Word Embedding"
      ]
    },
    {
      "cell_type": "code",
      "metadata": {
        "id": "33mes9L5VxcC",
        "colab_type": "code",
        "outputId": "0a3a94c8-927c-49e4-e265-c3d50508ba7a",
        "colab": {
          "base_uri": "https://localhost:8080/",
          "height": 85
        }
      },
      "source": [
        "%%time\n",
        "from gensim.models import Word2Vec\n",
        "from keras.preprocessing.sequence import pad_sequences\n",
        "\n",
        "embedded_size = 180\n",
        "embedding = Word2Vec(sentences=trigrams[bigrams[all_reviews]],\n",
        "                     size=embedded_size, window=5, min_count=3, workers=6, sg=1)\n",
        "\n",
        "print('Vocabulary size: {}'.format(len(embedding.wv.vocab)))"
      ],
      "execution_count": 13,
      "outputs": [
        {
          "output_type": "stream",
          "text": [
            "Using TensorFlow backend.\n"
          ],
          "name": "stderr"
        },
        {
          "output_type": "stream",
          "text": [
            "Vocabulary size: 98689\n",
            "CPU times: user 26min 59s, sys: 1.59 s, total: 27min\n",
            "Wall time: 15min 17s\n"
          ],
          "name": "stdout"
        }
      ]
    },
    {
      "cell_type": "code",
      "metadata": {
        "id": "MPXMNJhX76v_",
        "colab_type": "code",
        "colab": {
          "base_uri": "https://localhost:8080/",
          "height": 68
        },
        "outputId": "c67de171-48cb-495c-a224-a6407714145f"
      },
      "source": [
        "embedding.most_similar(positive=['woman', 'king'], negative=['man'], topn=3)"
      ],
      "execution_count": 14,
      "outputs": [
        {
          "output_type": "execute_result",
          "data": {
            "text/plain": [
              "[('throne', 0.5423933863639832),\n",
              " ('princess', 0.5231745839118958),\n",
              " ('queen', 0.4954874515533447)]"
            ]
          },
          "metadata": {
            "tags": []
          },
          "execution_count": 14
        }
      ]
    },
    {
      "cell_type": "code",
      "metadata": {
        "id": "wSo-5i0n1yh-",
        "colab_type": "code",
        "colab": {
          "base_uri": "https://localhost:8080/",
          "height": 187
        },
        "outputId": "8e9bcd2b-3436-4cd0-ae88-0934dbe86bad"
      },
      "source": [
        "embedding.most_similar('galaxy')"
      ],
      "execution_count": 15,
      "outputs": [
        {
          "output_type": "execute_result",
          "data": {
            "text/plain": [
              "[('solar_system', 0.8169952630996704),\n",
              " ('interstellar', 0.7860631942749023),\n",
              " ('wormhole', 0.7796242833137512),\n",
              " ('home_planet', 0.7625678181648254),\n",
              " ('crash_land_earth', 0.75907963514328),\n",
              " ('starship', 0.7589373588562012),\n",
              " ('habitable', 0.7573219537734985),\n",
              " ('land_planet', 0.7537533044815063),\n",
              " ('asteroids', 0.7514350414276123),\n",
              " ('anti_matter', 0.7508907318115234)]"
            ]
          },
          "metadata": {
            "tags": []
          },
          "execution_count": 15
        }
      ]
    },
    {
      "cell_type": "code",
      "metadata": {
        "id": "gVY8qrH23qy8",
        "colab_type": "code",
        "colab": {}
      },
      "source": [
        "embedding.wv.save_word2vec_format('gdrive/My Drive/dataset/IMDB/neural_embedding_model/wv.bin')"
      ],
      "execution_count": 0,
      "outputs": []
    },
    {
      "cell_type": "code",
      "metadata": {
        "id": "TJjkKlter37d",
        "colab_type": "code",
        "colab": {}
      },
      "source": [
        "# from sklearn.decomposition import PCA\n",
        "\n",
        "# pca = PCA(n_components=2)\n",
        "# X   = embedding[embedding.wv.vocab]\n",
        "# X_  = pca.fit_transform(X)\n",
        "\n",
        "# plt.figure(figsize=(12,12))\n",
        "# plt.scatter(X_[:,0], X_[:,1])\n",
        "\n",
        "# for idx, word in enumerate(list(embedding.wv.vocab)):\n",
        "#     plt.annotate(word, xy=(X_[idx, 0], X_[idx, 1]))\n",
        "\n",
        "# plt.show()"
      ],
      "execution_count": 0,
      "outputs": []
    },
    {
      "cell_type": "code",
      "metadata": {
        "id": "yHKlzo31ATDA",
        "colab_type": "code",
        "colab": {
          "base_uri": "https://localhost:8080/",
          "height": 85
        },
        "outputId": "a28a6fa5-f6af-410d-baeb-2a489b28131f"
      },
      "source": [
        "train_size = label_size + add_size\n",
        "train_data = train_df[:train_size]\n",
        "train_x, train_y = train_data['review_tokenized'].values.copy(), train_data['sentiment'].values.copy()\n",
        "\n",
        "from sklearn.model_selection import train_test_split\n",
        "\n",
        "train_x, valid_x, train_y, valid_y = train_test_split(train_x, train_y, test_size=0.05, shuffle=True, random_state=42)\n",
        "\n",
        "print('='*30)\n",
        "print('Training Size  :', train_x.shape[0])\n",
        "print('Validation Size:', valid_x.shape[0])\n",
        "print('='*30)"
      ],
      "execution_count": 18,
      "outputs": [
        {
          "output_type": "stream",
          "text": [
            "==============================\n",
            "Training Size  : 23750\n",
            "Validation Size: 1250\n",
            "==============================\n"
          ],
          "name": "stdout"
        }
      ]
    },
    {
      "cell_type": "code",
      "metadata": {
        "id": "JigICJVNLirz",
        "colab_type": "code",
        "colab": {
          "base_uri": "https://localhost:8080/",
          "height": 51
        },
        "outputId": "0d972ec5-4f45-477f-8cfa-2bb65bba7089"
      },
      "source": [
        "def vectorized_sentence(reviews, vocab):\n",
        "    print('Vectorizing words.....', end='\\r')\n",
        "    \n",
        "    keys           = list(vocab.keys())\n",
        "    filter_unknown = lambda word  : vocab.get(word, None) is not None\n",
        "    encode         = lambda review: list(map(keys.index, filter(filter_unknown, review)))\n",
        "    vectorized     = list(map(encode, reviews))\n",
        "    \n",
        "    print('Vectorizing words..... (done)')\n",
        "    \n",
        "    return vectorized\n",
        "\n",
        "\n",
        "vocab   = embedding.wv.vocab\n",
        "train_x = vectorized_sentence(trigrams[bigrams[train_x]], vocab)\n",
        "valid_x = vectorized_sentence(trigrams[bigrams[valid_x]], vocab)\n",
        "\n",
        "pad_length  = 180 \n",
        "train_pad_x = pad_sequences(sequences=train_x, maxlen=pad_length, padding='post')\n",
        "valid_pad_x = pad_sequences(sequences=valid_x, maxlen=pad_length, padding='post')"
      ],
      "execution_count": 19,
      "outputs": [
        {
          "output_type": "stream",
          "text": [
            "Vectorizing words..... (done)\n",
            "Vectorizing words..... (done)\n"
          ],
          "name": "stdout"
        }
      ]
    },
    {
      "cell_type": "markdown",
      "metadata": {
        "id": "UNJqTCsHzAxs",
        "colab_type": "text"
      },
      "source": [
        "# Model Development"
      ]
    },
    {
      "cell_type": "code",
      "metadata": {
        "id": "ylyS0P4rATDH",
        "colab_type": "code",
        "colab": {}
      },
      "source": [
        "import tensorflow as tf\n",
        "\n",
        "from keras.callbacks  import TensorBoard, LearningRateScheduler, Callback\n",
        "\n",
        "\n",
        "def Bidirectional_LSTM(embedding_matrix, input_length):\n",
        "    embedding_layer = tf.keras.layers.Embedding(embedding_matrix.shape[0],\n",
        "                                embedding_matrix.shape[1], \n",
        "                                input_length=input_length,\n",
        "                                weights=[embedding_matrix],\n",
        "                                trainable=False)\n",
        "    model = tf.keras.Sequential()\n",
        "    model.add(embedding_layer)\n",
        "    model.add(tf.keras.layers.Bidirectional(tf.keras.layers.LSTM(128, recurrent_dropout=0.1)))\n",
        "    model.add(tf.keras.layers.Dropout(0.25))\n",
        "    model.add(tf.keras.layers.Dense(64))\n",
        "    model.add(tf.keras.layers.Dropout(0.3))\n",
        "    model.add(tf.keras.layers.Dense(1, activation='sigmoid'))\n",
        "    \n",
        "    return model\n",
        "\n",
        "def lr_scheduler(epochs):\n",
        "    lr = 0.001\n",
        "    \n",
        "    if epochs > 20  : lr = 0.0003;\n",
        "    elif epochs > 40: lr = 0.0001;\n",
        "    elif epochs > 60: lr = 0.00003;\n",
        "        \n",
        "#     tf.summary_scalar('learning_rate', data=lr, step=epochs)\n",
        "    \n",
        "    return lr\n",
        "\n",
        "class LossCallback(Callback):\n",
        "    def on_train_begin(self, logs={}):\n",
        "        self.history = []\n",
        "        \n",
        "    def on_batch_end(self, batch, logs={}):\n",
        "        self.history.append(logs.get('loss'))\n"
      ],
      "execution_count": 0,
      "outputs": []
    },
    {
      "cell_type": "code",
      "metadata": {
        "id": "-IsySMx8ATDJ",
        "colab_type": "code",
        "colab": {
          "base_uri": "https://localhost:8080/",
          "height": 357
        },
        "outputId": "40da7a05-6d17-4ad4-fcaf-469f8eace59b"
      },
      "source": [
        "net   = Bidirectional_LSTM(embedding.wv.vectors, pad_length)\n",
        "optim = tf.keras.optimizers.Adam(lr=0.03, decay=0.001)\n",
        "net.compile(loss='binary_crossentropy', optimizer='adam', metrics=['accuracy'])\n",
        "net.summary()"
      ],
      "execution_count": 21,
      "outputs": [
        {
          "output_type": "stream",
          "text": [
            "Model: \"sequential\"\n",
            "_________________________________________________________________\n",
            "Layer (type)                 Output Shape              Param #   \n",
            "=================================================================\n",
            "embedding (Embedding)        (None, 180, 180)          17764020  \n",
            "_________________________________________________________________\n",
            "bidirectional (Bidirectional (None, 256)               316416    \n",
            "_________________________________________________________________\n",
            "dropout (Dropout)            (None, 256)               0         \n",
            "_________________________________________________________________\n",
            "dense (Dense)                (None, 64)                16448     \n",
            "_________________________________________________________________\n",
            "dropout_1 (Dropout)          (None, 64)                0         \n",
            "_________________________________________________________________\n",
            "dense_1 (Dense)              (None, 1)                 65        \n",
            "=================================================================\n",
            "Total params: 18,096,949\n",
            "Trainable params: 332,929\n",
            "Non-trainable params: 17,764,020\n",
            "_________________________________________________________________\n"
          ],
          "name": "stdout"
        }
      ]
    },
    {
      "cell_type": "markdown",
      "metadata": {
        "id": "-65usImT-9iV",
        "colab_type": "text"
      },
      "source": [
        "$lr\\_decay$ = $initial\\_lr * \\frac{1}{1 + decay * iteration}$"
      ]
    },
    {
      "cell_type": "code",
      "metadata": {
        "id": "EEpkQTUdATDL",
        "colab_type": "code",
        "colab": {}
      },
      "source": [
        "epochs       = 20\n",
        "batch_size   = 200\n",
        "log_dir      = '/content/sample_data/'\n",
        "# tb_callbacks = TensorBoard(log_dir=log_dir + 'accuracy/')\n",
        "# ls_callbacks = LossCallback()\n",
        "\n",
        "tb_callbacks = tf.keras.callbacks.TensorBoard(log_dir=log_dir + 'accuracy/')\n",
        "# lr_writer    = tf.summary.create_file_writer(log_dir + 'dynamic_lr/')\n",
        "lr_callbacks = LearningRateScheduler(lr_scheduler)\n",
        "\n",
        "# %tensorboard --logdir /content/sample_data"
      ],
      "execution_count": 0,
      "outputs": []
    },
    {
      "cell_type": "code",
      "metadata": {
        "id": "Aw2oYsqHgfb-",
        "colab_type": "code",
        "colab": {
          "base_uri": "https://localhost:8080/",
          "height": 170
        },
        "outputId": "dc1ad3d2-baf5-483e-a73b-8b342491ee2c"
      },
      "source": [
        "%%time\n",
        "\n",
        "print('Training....', end='\\r')\n",
        "\n",
        "history = net.fit(x=train_pad_x, \n",
        "                  y=train_y, \n",
        "                  validation_data=(valid_pad_x, valid_y), \n",
        "                  batch_size=batch_size, \n",
        "                  epochs=10,\n",
        "                  callbacks=[tb_callbacks])\n",
        "\n",
        "print('Training.... (Done)')\n"
      ],
      "execution_count": 0,
      "outputs": [
        {
          "output_type": "stream",
          "text": [
            "Training....\rTrain on 23750 samples, validate on 1250 samples\n",
            "Epoch 1/10\n",
            "23750/23750 [==============================] - 231s 10ms/sample - loss: 0.6817 - accuracy: 0.5581 - val_loss: 0.6709 - val_accuracy: 0.5808\n",
            "Epoch 2/10\n",
            "23750/23750 [==============================] - 229s 10ms/sample - loss: 0.6342 - accuracy: 0.6387 - val_loss: 0.5945 - val_accuracy: 0.6904\n",
            "Epoch 3/10\n",
            "23750/23750 [==============================] - 229s 10ms/sample - loss: 0.6203 - accuracy: 0.6575 - val_loss: 0.6430 - val_accuracy: 0.6360\n",
            "Epoch 4/10\n",
            "14200/23750 [================>.............] - ETA: 1:30 - loss: 0.5985 - accuracy: 0.6823"
          ],
          "name": "stdout"
        }
      ]
    },
    {
      "cell_type": "code",
      "metadata": {
        "id": "FW6M9TWnATDM",
        "colab_type": "code",
        "colab": {}
      },
      "source": [
        "def model_save(model, history):\n",
        "    losses = [[t_loss, v_loss] for t_loss, v_loss in zip(history['loss'], history['val_loss'])]\n",
        "    acc    = [[t_acc , v_acc]  for t_acc , v_acc  in zip(history['accuracy'], history['val_accuracy'])]\n",
        "\n",
        "    model.save_weights('gdrive/My Drive/dataset/IMDB/model.h5')\n",
        "    np.savetxt('gdrive/My Drive/dataset/IMDB/losses.csv'  , losses, delimiter=',')\n",
        "    np.savetxt('gdrive/My Drive/dataset/IMDB/accuracy.csv', acc, delimiter=',')\n",
        "\n",
        "model_save(net, history.history)\n"
      ],
      "execution_count": 0,
      "outputs": []
    },
    {
      "cell_type": "markdown",
      "metadata": {
        "id": "tlanJLcsLVjB",
        "colab_type": "text"
      },
      "source": [
        "# Metrics"
      ]
    },
    {
      "cell_type": "code",
      "metadata": {
        "id": "ky_S_j5_pnxy",
        "colab_type": "code",
        "colab": {}
      },
      "source": [
        "from lib.evaluate import Evaluation as Eval\n",
        "\n",
        "eval = Eval()\n",
        "train_y_ = np.round(net.predict(train_pad_x).squeeze())\n",
        "valid_y_ = np.round(net.predict(valid_pad_x).squeeze())\n",
        "\n",
        "train_acc = eval.classification_accuracy(train_y, train_y_)\n",
        "valid_acc = eval.classification_accuracy(valid_y, valid_y_)\n",
        "\n",
        "eval.pretty_print_acc(train_acc, valid_acc)"
      ],
      "execution_count": 0,
      "outputs": []
    },
    {
      "cell_type": "code",
      "metadata": {
        "id": "MrzPdvUD22yi",
        "colab_type": "code",
        "colab": {}
      },
      "source": [
        "train_loss = history.history['loss']\n",
        "valid_loss = history.history['val_loss']\n",
        "\n",
        "train_acc = history.history['accuracy']\n",
        "valid_acc = history.history['val_accuracy']\n",
        "\n",
        "plt.figure(figsize=(24,8))\n",
        "\n",
        "plt.subplot(1,2,1)\n",
        "plt.title('Train VS Valid Loss')\n",
        "plt.xlabel('Epochs')\n",
        "plt.ylabel('Loss')\n",
        "plt.scatter(range(len(train_loss)), train_loss, label='Train', c='r')\n",
        "plt.plot(range(len(valid_loss)), valid_loss, label='Valid', linewidth=3)\n",
        "plt.legend()\n",
        "\n",
        "plt.subplot(1,2,2)\n",
        "plt.title('Train VS Valid Accuracy')\n",
        "plt.xlabel('Epochs')\n",
        "plt.ylabel('Loss')\n",
        "plt.scatter(range(len(train_acc)), train_acc, label='Train', c='r')\n",
        "plt.plot(range(len(valid_acc)), valid_acc, label='Valid', linewidth=3)\n",
        "plt.legend()\n",
        "\n",
        "plt.show()"
      ],
      "execution_count": 0,
      "outputs": []
    },
    {
      "cell_type": "code",
      "metadata": {
        "id": "WSlaJksvATDV",
        "colab_type": "code",
        "colab": {
          "base_uri": "https://localhost:8080/",
          "height": 527
        },
        "outputId": "dd024b49-89b8-4309-fe22-c2877ac3e60a"
      },
      "source": [
        "eval.plot_confusion_matrix(valid_y, valid_y_.squeeze(), title='Confusion Matrix (Valid)')\n",
        "plt.show()"
      ],
      "execution_count": 27,
      "outputs": [
        {
          "output_type": "display_data",
          "data": {
            "image/png": "[encoded data removed]",
            "text/plain": [
              "<Figure size 1152x576 with 1 Axes>"
            ]
          },
          "metadata": {
            "tags": []
          }
        }
      ]
    },
    {
      "cell_type": "code",
      "metadata": {
        "id": "e3j8V6NjATDX",
        "colab_type": "code",
        "colab": {}
      },
      "source": [
        "fpr, tpr, threshold = roc_curve(val_y, val_y_)\n",
        "auc_score = auc(fpr, tpr)\n",
        "\n",
        "plt.figure(figsize=(16,8))\n",
        "plt.title('AUC, ROC score')\n",
        "plt.xlabel('False Positive Rate')\n",
        "plt.ylabel('True Positive Rate')\n",
        "plt.plot(fpr, tpr, label=f\"AUC score: {auc_score}\")\n",
        "plt.show()"
      ],
      "execution_count": 0,
      "outputs": []
    },
    {
      "cell_type": "code",
      "metadata": {
        "id": "yCcZY8_HATDb",
        "colab_type": "code",
        "colab": {}
      },
      "source": [
        ""
      ],
      "execution_count": 0,
      "outputs": []
    },
    {
      "cell_type": "code",
      "metadata": {
        "id": "WYYGQIuRATDd",
        "colab_type": "code",
        "colab": {}
      },
      "source": [
        ""
      ],
      "execution_count": 0,
      "outputs": []
    },
    {
      "cell_type": "code",
      "metadata": {
        "id": "crCn4WQcATDf",
        "colab_type": "code",
        "colab": {}
      },
      "source": [
        ""
      ],
      "execution_count": 0,
      "outputs": []
    },
    {
      "cell_type": "code",
      "metadata": {
        "id": "KfI5ynknATDi",
        "colab_type": "code",
        "colab": {}
      },
      "source": [
        ""
      ],
      "execution_count": 0,
      "outputs": []
    },
    {
      "cell_type": "code",
      "metadata": {
        "id": "EJ1tvvG0ATDk",
        "colab_type": "code",
        "colab": {}
      },
      "source": [
        ""
      ],
      "execution_count": 0,
      "outputs": []
    },
    {
      "cell_type": "code",
      "metadata": {
        "id": "7M4MRJL-ATDl",
        "colab_type": "code",
        "colab": {}
      },
      "source": [
        ""
      ],
      "execution_count": 0,
      "outputs": []
    },
    {
      "cell_type": "code",
      "metadata": {
        "id": "kQgUxxinATDm",
        "colab_type": "code",
        "colab": {}
      },
      "source": [
        ""
      ],
      "execution_count": 0,
      "outputs": []
    },
    {
      "cell_type": "code",
      "metadata": {
        "id": "wokkp68fATDo",
        "colab_type": "code",
        "colab": {}
      },
      "source": [
        ""
      ],
      "execution_count": 0,
      "outputs": []
    },
    {
      "cell_type": "code",
      "metadata": {
        "id": "HLcMmZ_oATDp",
        "colab_type": "code",
        "colab": {}
      },
      "source": [
        ""
      ],
      "execution_count": 0,
      "outputs": []
    }
  ]
}