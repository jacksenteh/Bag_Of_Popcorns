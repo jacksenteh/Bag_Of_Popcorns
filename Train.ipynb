{
  "nbformat": 4,
  "nbformat_minor": 0,
  "metadata": {
    "kernelspec": {
      "name": "python3",
      "display_name": "Python 3"
    },
    "language_info": {
      "codemirror_mode": {
        "name": "ipython",
        "version": 3
      },
      "file_extension": ".py",
      "mimetype": "text/x-python",
      "name": "python",
      "nbconvert_exporter": "python",
      "pygments_lexer": "ipython3",
      "version": "3.7.3"
    },
    "colab": {
      "name": "IMDB_Reviews.ipynb",
      "provenance": []
    },
    "accelerator": "GPU"
  },
  "cells": [
    {
      "cell_type": "code",
      "metadata": {
        "id": "RjNUVkyRAy7S",
        "colab_type": "code",
        "outputId": "f195ea0c-2873-4717-b066-53bdbcb3a70f",
        "colab": {
          "base_uri": "https://localhost:8080/",
          "height": 542
        }
      },
      "source": [
        "!nvidia-smi\n",
        "!pip install tensorboardcolab\n",
        "!mkdir lib\n",
        "!mv data_preprocess.py lib\n",
        "\n",
        "import warnings\n",
        "warnings.filterwarnings('ignore')\n",
        "\n",
        "from google.colab import drive\n",
        "drive.mount('/content/gdrive')\n",
        "\n",
        "from tensorboardcolab import TensorBoardColab\n",
        "tbc = TensorBoardColab(graph_path='/content/sample_data')"
      ],
      "execution_count": 1,
      "outputs": [
        {
          "output_type": "stream",
          "text": [
            "Tue Oct 29 10:36:55 2019       \n",
            "+-----------------------------------------------------------------------------+\n",
            "| NVIDIA-SMI 430.50       Driver Version: 418.67       CUDA Version: 10.1     |\n",
            "|-------------------------------+----------------------+----------------------+\n",
            "| GPU  Name        Persistence-M| Bus-Id        Disp.A | Volatile Uncorr. ECC |\n",
            "| Fan  Temp  Perf  Pwr:Usage/Cap|         Memory-Usage | GPU-Util  Compute M. |\n",
            "|===============================+======================+======================|\n",
            "|   0  Tesla K80           Off  | 00000000:00:04.0 Off |                    0 |\n",
            "| N/A   33C    P8    28W / 149W |      0MiB / 11441MiB |      0%      Default |\n",
            "+-------------------------------+----------------------+----------------------+\n",
            "                                                                               \n",
            "+-----------------------------------------------------------------------------+\n",
            "| Processes:                                                       GPU Memory |\n",
            "|  GPU       PID   Type   Process name                             Usage      |\n",
            "|=============================================================================|\n",
            "|  No running processes found                                                 |\n",
            "+-----------------------------------------------------------------------------+\n",
            "Requirement already satisfied: tensorboardcolab in /usr/local/lib/python3.6/dist-packages (0.0.22)\n",
            "Go to this URL in a browser: https://accounts.google.com/o/oauth2/auth?client_id=947318989803-6bn6qk8qdgf4n4g3pfee6491hc0brc4i.apps.googleusercontent.com&redirect_uri=urn%3Aietf%3Awg%3Aoauth%3A2.0%3Aoob&scope=email%20https%3A%2F%2Fwww.googleapis.com%2Fauth%2Fdocs.test%20https%3A%2F%2Fwww.googleapis.com%2Fauth%2Fdrive%20https%3A%2F%2Fwww.googleapis.com%2Fauth%2Fdrive.photos.readonly%20https%3A%2F%2Fwww.googleapis.com%2Fauth%2Fpeopleapi.readonly&response_type=code\n",
            "\n",
            "Enter your authorization code:\n",
            "··········\n",
            "Mounted at /content/gdrive\n"
          ],
          "name": "stdout"
        },
        {
          "output_type": "display_data",
          "data": {
            "text/html": [
              "<p style=\"color: red;\">\n",
              "The default version of TensorFlow in Colab will soon switch to TensorFlow 2.x.<br>\n",
              "We recommend you <a href=\"https://www.tensorflow.org/guide/migrate\" target=\"_blank\">upgrade</a> now \n",
              "or ensure your notebook will continue to use TensorFlow 1.x via the <code>%tensorflow_version 1.x</code> magic:\n",
              "<a href=\"https://colab.research.google.com/notebooks/tensorflow_version.ipynb\" target=\"_blank\">more info</a>.</p>\n"
            ],
            "text/plain": [
              "<IPython.core.display.HTML object>"
            ]
          },
          "metadata": {
            "tags": []
          }
        },
        {
          "output_type": "stream",
          "text": [
            "Using TensorFlow backend.\n"
          ],
          "name": "stderr"
        },
        {
          "output_type": "stream",
          "text": [
            "Wait for 8 seconds...\n",
            "TensorBoard link:\n",
            "http://79427afd.ngrok.io\n"
          ],
          "name": "stdout"
        }
      ]
    },
    {
      "cell_type": "code",
      "metadata": {
        "id": "2RrFNl5LATCm",
        "colab_type": "code",
        "outputId": "0b9b3053-c816-4aba-e8b7-c1e43a5e43cb",
        "colab": {
          "base_uri": "https://localhost:8080/",
          "height": 119
        }
      },
      "source": [
        "import re\n",
        "import nltk\n",
        "import sklearn\n",
        "import numpy             as np\n",
        "import pandas            as pd\n",
        "import seaborn           as sns\n",
        "import matplotlib.pyplot as plt\n",
        "\n",
        "from pprint              import pprint\n",
        "from bokeh.io            import output_notebook, show\n",
        "from bokeh.models        import ColumnDataSource\n",
        "from bokeh.palettes      import Spectral6\n",
        "from bokeh.plotting      import figure\n",
        "from lib.data_preprocess import Preprocess\n",
        "from nltk.corpus         import stopwords \n",
        "from nltk.tokenize       import word_tokenize\n",
        "from nltk.stem           import WordNetLemmatizer\n",
        "from bs4                 import BeautifulSoup\n",
        "from PIL                 import Image\n",
        "from wordcloud           import WordCloud, STOPWORDS, ImageColorGenerator\n",
        "from tqdm                import tqdm_notebook as tqdm\n",
        "from scipy               import stats\n",
        "\n",
        "# plot setting\n",
        "output_notebook()\n",
        "sns.set_style('whitegrid')\n",
        "param = {'figure.figsize': (16, 8),\n",
        "         'axes.titlesize': 18,\n",
        "         'axes.labelsize': 16}\n",
        "plt.rcParams.update(param)\n",
        "\n",
        "# ntlk setting\n",
        "nltk.download('stopwords')\n",
        "nltk.download('wordnet')\n",
        "nltk.download('punkt')\n",
        "\n",
        "%load_ext tensorboard"
      ],
      "execution_count": 2,
      "outputs": [
        {
          "output_type": "stream",
          "text": [
            "[nltk_data] Downloading package stopwords to /root/nltk_data...\n",
            "[nltk_data]   Unzipping corpora/stopwords.zip.\n",
            "[nltk_data] Downloading package wordnet to /root/nltk_data...\n",
            "[nltk_data]   Unzipping corpora/wordnet.zip.\n",
            "[nltk_data] Downloading package punkt to /root/nltk_data...\n",
            "[nltk_data]   Unzipping tokenizers/punkt.zip.\n"
          ],
          "name": "stdout"
        }
      ]
    },
    {
      "cell_type": "markdown",
      "metadata": {
        "id": "PaIix5dPATCr",
        "colab_type": "text"
      },
      "source": [
        "# Data preprocessing"
      ]
    },
    {
      "cell_type": "code",
      "metadata": {
        "id": "M3KDYDYBATCs",
        "colab_type": "code",
        "outputId": "6e37e614-5d39-485b-e2f4-27a67a554b98",
        "colab": {
          "base_uri": "https://localhost:8080/",
          "height": 714
        }
      },
      "source": [
        "train_path   = 'gdrive/My Drive/dataset/IMDB/labeledTrainData.tsv'\n",
        "add_path     = 'gdrive/My Drive/dataset/IMDB/unlabeledTrainData.tsv'\n",
        "test_path    = 'gdrive/My Drive/dataset/IMDB/testData.tsv'\n",
        "twitter_path = 'gdrive/My Drive/dataset/IMDB/tweets_sentiment.csv'\n",
        "\n",
        "# read in the dataset\n",
        "pp                = Preprocess()\n",
        "twitter_df        = pd.read_csv(twitter_path, error_bad_lines=False, delimiter=',', encoding='latin8')[['Sentiment', 'SentimentText']]\n",
        "add_df            = pd.read_csv(add_path, error_bad_lines=False, delimiter='\\t')\n",
        "train_df, test_df = pp.read_file(train_path, test_path, sep='\\t')\n",
        "\n",
        "# rename the twitter_df's column name to match with IMDB dataset\n",
        "twitter_df.columns = ['sentiment', 'review']\n",
        "\n",
        "# record the twitter and train dataframe size\n",
        "twitter_ds_size = twitter_df.shape[0]\n",
        "labeled_ds_size = train_df.shape[0]\n",
        "\n",
        "# check for missing value\n",
        "print('Training set:')\n",
        "pp.check_na(train_df)\n",
        "print()\n",
        "\n",
        "# check for missing value\n",
        "print('Additional data set:')\n",
        "pp.check_na(add_df)\n",
        "print()\n",
        "\n",
        "print('Test set:')\n",
        "pp.check_na(test_df)\n",
        "print()\n",
        "\n",
        "print('Twitter dataset:')\n",
        "pp.check_na(twitter_df)"
      ],
      "execution_count": 3,
      "outputs": [
        {
          "output_type": "stream",
          "text": [
            "b'Skipping line 43043: expected 2 fields, saw 3\\n'\n"
          ],
          "name": "stderr"
        },
        {
          "output_type": "stream",
          "text": [
            "Training set:\n",
            "============== Data Info ==============\n",
            "Number of rows: 25000\n",
            "Number of cols: 3\n",
            "========== Missing Data Info ==========\n",
            "     Columns  Count DataType\n",
            "0         id      0   object\n",
            "1  sentiment      0    int64\n",
            "2     review      0   object\n",
            "=======================================\n",
            "\n",
            "Additional data set:\n",
            "============== Data Info ==============\n",
            "Number of rows: 49998\n",
            "Number of cols: 2\n",
            "========== Missing Data Info ==========\n",
            "  Columns  Count DataType\n",
            "0      id      0   object\n",
            "1  review      0   object\n",
            "=======================================\n",
            "\n",
            "Test set:\n",
            "============== Data Info ==============\n",
            "Number of rows: 25000\n",
            "Number of cols: 2\n",
            "========== Missing Data Info ==========\n",
            "  Columns  Count DataType\n",
            "0      id      0   object\n",
            "1  review      0   object\n",
            "=======================================\n",
            "\n",
            "Twitter dataset:\n",
            "============== Data Info ==============\n",
            "Number of rows: 1048575\n",
            "Number of cols: 2\n",
            "========== Missing Data Info ==========\n",
            "     Columns  Count DataType\n",
            "0  sentiment      0    int64\n",
            "1     review      0   object\n",
            "=======================================\n"
          ],
          "name": "stdout"
        }
      ]
    },
    {
      "cell_type": "code",
      "metadata": {
        "scrolled": false,
        "id": "0Z7KpHAjATCy",
        "colab_type": "code",
        "colab": {}
      },
      "source": [
        "def text_process(df):\n",
        "    # convert it to lower space\n",
        "    df.review = df.review.str.lower()\n",
        "\n",
        "    # pattern\n",
        "    nw_removal  = lambda review: re.sub(r'[^A-Za-z\\s]' , ' ', review)\n",
        "    spc_removal = lambda review: re.sub(r'[\\s]+'      , ' ', review)\n",
        "    tag_removal = lambda review: BeautifulSoup(review, 'lxml').get_text()\n",
        "\n",
        "    # replace words or substrings which match the pattern\n",
        "    df.review = df.review.apply(tag_removal)\n",
        "    df.review = df.review.apply(nw_removal)\n",
        "    df.review = df.review.apply(spc_removal)\n",
        "    \n",
        "    return df\n",
        "\n",
        "def lemmatize(review):\n",
        "    lemmatization = WordNetLemmatizer()\n",
        "    stop_words    = set(stopwords.words('english'))\n",
        "    \n",
        "    # tokenize, lemmatize and stop words removal\n",
        "    tokens            = word_tokenize(review)\n",
        "    lemmatized_tokens = list(map(lambda x: lemmatization.lemmatize(x, pos='v'), tokens))\n",
        "    meaningful_tokens = list(filter(lambda x: not x in stop_words, lemmatized_tokens))\n",
        "    \n",
        "    return meaningful_tokens\n",
        "\n",
        "# obtaining the stop words\n",
        "stop_words = set(stopwords.words('english'))\n",
        "\n",
        "# add in the additional dataset\n",
        "train_df = pd.concat([train_df, add_df, twitter_df])\n",
        "\n",
        "# clean the reviews\n",
        "train_df = text_process(train_df)\n",
        "test_df  = text_process(test_df)\n",
        "\n",
        "# lemmatize the reviews\n",
        "train_df['review_tokenized'] = list(map(lemmatize, train_df.review.values.copy()))\n",
        "test_df['review_tokenized']  = list(map(lemmatize, test_df.review.values.copy()))\n",
        "all_reviews                  = pd.concat([train_df['review_tokenized'], test_df['review_tokenized']]).to_numpy()\n"
      ],
      "execution_count": 0,
      "outputs": []
    },
    {
      "cell_type": "code",
      "metadata": {
        "id": "SYa6sGj7MXSp",
        "colab_type": "code",
        "colab": {
          "base_uri": "https://localhost:8080/",
          "height": 359
        },
        "outputId": "825f5ce9-a09f-4ef4-f584-b34502ca4b97"
      },
      "source": [
        "display(train_df[['id', 'review', 'sentiment']].head(10))"
      ],
      "execution_count": 5,
      "outputs": [
        {
          "output_type": "display_data",
          "data": {
            "text/html": [
              "<div>\n",
              "<style scoped>\n",
              "    .dataframe tbody tr th:only-of-type {\n",
              "        vertical-align: middle;\n",
              "    }\n",
              "\n",
              "    .dataframe tbody tr th {\n",
              "        vertical-align: top;\n",
              "    }\n",
              "\n",
              "    .dataframe thead th {\n",
              "        text-align: right;\n",
              "    }\n",
              "</style>\n",
              "<table border=\"1\" class=\"dataframe\">\n",
              "  <thead>\n",
              "    <tr style=\"text-align: right;\">\n",
              "      <th></th>\n",
              "      <th>id</th>\n",
              "      <th>review</th>\n",
              "      <th>sentiment</th>\n",
              "    </tr>\n",
              "  </thead>\n",
              "  <tbody>\n",
              "    <tr>\n",
              "      <th>0</th>\n",
              "      <td>5814_8</td>\n",
              "      <td>with all this stuff going down at the moment w...</td>\n",
              "      <td>1.0</td>\n",
              "    </tr>\n",
              "    <tr>\n",
              "      <th>1</th>\n",
              "      <td>2381_9</td>\n",
              "      <td>the classic war of the worlds by timothy hine...</td>\n",
              "      <td>1.0</td>\n",
              "    </tr>\n",
              "    <tr>\n",
              "      <th>2</th>\n",
              "      <td>7759_3</td>\n",
              "      <td>the film starts with a manager nicholas bell g...</td>\n",
              "      <td>0.0</td>\n",
              "    </tr>\n",
              "    <tr>\n",
              "      <th>3</th>\n",
              "      <td>3630_4</td>\n",
              "      <td>it must be assumed that those who praised this...</td>\n",
              "      <td>0.0</td>\n",
              "    </tr>\n",
              "    <tr>\n",
              "      <th>4</th>\n",
              "      <td>9495_8</td>\n",
              "      <td>superbly trashy and wondrously unpretentious s...</td>\n",
              "      <td>1.0</td>\n",
              "    </tr>\n",
              "    <tr>\n",
              "      <th>5</th>\n",
              "      <td>8196_8</td>\n",
              "      <td>i dont know why people think this is such a ba...</td>\n",
              "      <td>1.0</td>\n",
              "    </tr>\n",
              "    <tr>\n",
              "      <th>6</th>\n",
              "      <td>7166_2</td>\n",
              "      <td>this movie could have been very good but comes...</td>\n",
              "      <td>0.0</td>\n",
              "    </tr>\n",
              "    <tr>\n",
              "      <th>7</th>\n",
              "      <td>10633_1</td>\n",
              "      <td>i watched this video at a friend s house i m g...</td>\n",
              "      <td>0.0</td>\n",
              "    </tr>\n",
              "    <tr>\n",
              "      <th>8</th>\n",
              "      <td>319_1</td>\n",
              "      <td>a friend of mine bought this film for and even...</td>\n",
              "      <td>0.0</td>\n",
              "    </tr>\n",
              "    <tr>\n",
              "      <th>9</th>\n",
              "      <td>8713_10</td>\n",
              "      <td>this movie is full of references like mad max ...</td>\n",
              "      <td>1.0</td>\n",
              "    </tr>\n",
              "  </tbody>\n",
              "</table>\n",
              "</div>"
            ],
            "text/plain": [
              "        id                                             review  sentiment\n",
              "0   5814_8  with all this stuff going down at the moment w...        1.0\n",
              "1   2381_9   the classic war of the worlds by timothy hine...        1.0\n",
              "2   7759_3  the film starts with a manager nicholas bell g...        0.0\n",
              "3   3630_4  it must be assumed that those who praised this...        0.0\n",
              "4   9495_8  superbly trashy and wondrously unpretentious s...        1.0\n",
              "5   8196_8  i dont know why people think this is such a ba...        1.0\n",
              "6   7166_2  this movie could have been very good but comes...        0.0\n",
              "7  10633_1  i watched this video at a friend s house i m g...        0.0\n",
              "8    319_1  a friend of mine bought this film for and even...        0.0\n",
              "9  8713_10  this movie is full of references like mad max ...        1.0"
            ]
          },
          "metadata": {
            "tags": []
          }
        }
      ]
    },
    {
      "cell_type": "code",
      "metadata": {
        "scrolled": false,
        "id": "93oe7s2cATC0",
        "colab_type": "code",
        "outputId": "fb08d893-f445-4aeb-ccbb-f340100cbae6",
        "colab": {
          "base_uri": "https://localhost:8080/",
          "height": 414
        }
      },
      "source": [
        "labels, counts = np.unique(train_df.sentiment.values, return_counts=True)\n",
        "labels         = ['sentiment_' + str(label) for label in labels]\n",
        "\n",
        "plt.figure(figsize=(8,6))\n",
        "plt.title('Sentiment Labels Distribution')\n",
        "plt.xlabel('Labels')\n",
        "plt.ylabel('Number of Count')\n",
        "sns.barplot(x=labels, y=counts)\n",
        "plt.show()\n",
        "\n"
      ],
      "execution_count": 6,
      "outputs": [
        {
          "output_type": "display_data",
          "data": {
            "image/png": "[encoded data removed]",
            "text/plain": [
              "<Figure size 576x432 with 1 Axes>"
            ]
          },
          "metadata": {
            "tags": []
          }
        }
      ]
    },
    {
      "cell_type": "code",
      "metadata": {
        "id": "W1wA1j5nATC2",
        "colab_type": "code",
        "colab": {}
      },
      "source": [
        "def get_high_frequent_word(feature_name, tokenized_reviews, max_length=200):\n",
        "    word_count = {w: 0 for w in feature_name}\n",
        "\n",
        "    for tokens in tokenized_reviews:\n",
        "        for w in tokens:\n",
        "            if w in word_count.keys():\n",
        "                word_count[w] += 1\n",
        "                \n",
        "    high_frequent_words = np.array(sorted(word_count.items(), key = lambda kv:(kv[1], kv[0])))    \n",
        "                \n",
        "    return high_frequent_words[-max_length:,0]\n",
        "\n"
      ],
      "execution_count": 0,
      "outputs": []
    },
    {
      "cell_type": "code",
      "metadata": {
        "id": "v8PrbWOvATC4",
        "colab_type": "code",
        "outputId": "b6f9717d-24ed-4a3e-8582-3238b7d6a2da",
        "colab": {
          "base_uri": "https://localhost:8080/",
          "height": 232
        }
      },
      "source": [
        "from sklearn.feature_extraction.text import TfidfVectorizer\n",
        "\n",
        "# plotting wordcloud\n",
        "# stop_words   = set(stopwords.words('english'))\n",
        "# bad_review   = train_df.loc[train_df['sentiment'] == 0]\n",
        "# good_review  = train_df.loc[train_df['sentiment'] == 1]\n",
        "\n",
        "vectorizer   = TfidfVectorizer(sublinear_tf=True, analyzer='word', max_features=500)\n",
        "bad_vct      = vectorizer.fit_transform(bad_review['review'].values.copy())\n",
        "hf_words     = get_high_frequent_word(vectorizer.get_feature_names(), bad_review['review_tokenized'].values.copy())\n",
        "bad_review   = \" \".join(w for w in hf_words)\n",
        "bad_wdcloud  = WordCloud(stopwords=stop_words, background_color=\"white\").generate(bad_review)\n",
        "\n",
        "vectorizer   = TfidfVectorizer(sublinear_tf=True, analyzer='word', max_features=500)\n",
        "good_vct     = vectorizer.fit_transform(good_review['review'].values.copy())\n",
        "hf_words     = get_high_frequent_word(vectorizer.get_feature_names(), good_review['review_tokenized'].values.copy())\n",
        "good_review  = \" \".join(w for w in hf_words)\n",
        "good_wdcloud = WordCloud(stopwords=stop_words, background_color=\"white\").generate(good_review)\n",
        "\n",
        "plt.figure(figsize=(16,6))\n",
        "plt.imshow(good_wdcloud, interpolation='bilinear')\n",
        "plt.axis(\"off\")\n",
        "plt.show()\n",
        "\n",
        "plt.figure(figsize=(16,6))\n",
        "plt.imshow(bad_wdcloud, interpolation='bilinear')\n",
        "plt.axis(\"off\")\n",
        "plt.show()"
      ],
      "execution_count": 0,
      "outputs": [
        {
          "output_type": "error",
          "ename": "NameError",
          "evalue": "ignored",
          "traceback": [
            "\u001b[0;31m---------------------------------------------------------------------------\u001b[0m",
            "\u001b[0;31mNameError\u001b[0m                                 Traceback (most recent call last)",
            "\u001b[0;32m<ipython-input-8-3c1793b5fe17>\u001b[0m in \u001b[0;36m<module>\u001b[0;34m()\u001b[0m\n\u001b[1;32m      7\u001b[0m \u001b[0;34m\u001b[0m\u001b[0m\n\u001b[1;32m      8\u001b[0m \u001b[0mvectorizer\u001b[0m   \u001b[0;34m=\u001b[0m \u001b[0mTfidfVectorizer\u001b[0m\u001b[0;34m(\u001b[0m\u001b[0msublinear_tf\u001b[0m\u001b[0;34m=\u001b[0m\u001b[0;32mTrue\u001b[0m\u001b[0;34m,\u001b[0m \u001b[0manalyzer\u001b[0m\u001b[0;34m=\u001b[0m\u001b[0;34m'word'\u001b[0m\u001b[0;34m,\u001b[0m \u001b[0mmax_features\u001b[0m\u001b[0;34m=\u001b[0m\u001b[0;36m500\u001b[0m\u001b[0;34m)\u001b[0m\u001b[0;34m\u001b[0m\u001b[0;34m\u001b[0m\u001b[0m\n\u001b[0;32m----> 9\u001b[0;31m \u001b[0mbad_vct\u001b[0m      \u001b[0;34m=\u001b[0m \u001b[0mvectorizer\u001b[0m\u001b[0;34m.\u001b[0m\u001b[0mfit_transform\u001b[0m\u001b[0;34m(\u001b[0m\u001b[0mbad_review\u001b[0m\u001b[0;34m[\u001b[0m\u001b[0;34m'review'\u001b[0m\u001b[0;34m]\u001b[0m\u001b[0;34m.\u001b[0m\u001b[0mvalues\u001b[0m\u001b[0;34m.\u001b[0m\u001b[0mcopy\u001b[0m\u001b[0;34m(\u001b[0m\u001b[0;34m)\u001b[0m\u001b[0;34m)\u001b[0m\u001b[0;34m\u001b[0m\u001b[0;34m\u001b[0m\u001b[0m\n\u001b[0m\u001b[1;32m     10\u001b[0m \u001b[0mhf_words\u001b[0m     \u001b[0;34m=\u001b[0m \u001b[0mget_high_frequent_word\u001b[0m\u001b[0;34m(\u001b[0m\u001b[0mvectorizer\u001b[0m\u001b[0;34m.\u001b[0m\u001b[0mget_feature_names\u001b[0m\u001b[0;34m(\u001b[0m\u001b[0;34m)\u001b[0m\u001b[0;34m,\u001b[0m \u001b[0mbad_review\u001b[0m\u001b[0;34m[\u001b[0m\u001b[0;34m'review_tokenized'\u001b[0m\u001b[0;34m]\u001b[0m\u001b[0;34m.\u001b[0m\u001b[0mvalues\u001b[0m\u001b[0;34m.\u001b[0m\u001b[0mcopy\u001b[0m\u001b[0;34m(\u001b[0m\u001b[0;34m)\u001b[0m\u001b[0;34m)\u001b[0m\u001b[0;34m\u001b[0m\u001b[0;34m\u001b[0m\u001b[0m\n\u001b[1;32m     11\u001b[0m \u001b[0mbad_review\u001b[0m   \u001b[0;34m=\u001b[0m \u001b[0;34m\" \"\u001b[0m\u001b[0;34m.\u001b[0m\u001b[0mjoin\u001b[0m\u001b[0;34m(\u001b[0m\u001b[0mw\u001b[0m \u001b[0;32mfor\u001b[0m \u001b[0mw\u001b[0m \u001b[0;32min\u001b[0m \u001b[0mhf_words\u001b[0m\u001b[0;34m)\u001b[0m\u001b[0;34m\u001b[0m\u001b[0;34m\u001b[0m\u001b[0m\n",
            "\u001b[0;31mNameError\u001b[0m: name 'bad_review' is not defined"
          ]
        }
      ]
    },
    {
      "cell_type": "code",
      "metadata": {
        "id": "FB7arITvATC-",
        "colab_type": "code",
        "colab": {}
      },
      "source": [
        "review_length = np.array(list(map(len, all_reviews.copy())))\n",
        "mode          = stats.mode(review_length)[0][0]\n",
        "mean          = np.mean(review_length)\n",
        "median        = np.median(review_length)\n",
        "ymin, ymax    = 0, 0.2\n",
        "\n",
        "plt.figure(figsize=(16,8))\n",
        "plt.title('Words per Review')\n",
        "plt.xlabel('Number of Words in each Review')\n",
        "plt.xlim([0, np.percentile(review_length, 95)])  # check where the 95% of distribution lies on\n",
        "plt.ylim([0, ymax])\n",
        "\n",
        "plt.vlines(mode  , ymin=0, ymax=ymax, linestyle='--', linewidth=4, colors='red'  , label=f'mode={mode}')\n",
        "plt.vlines(mean  , ymin=0, ymax=ymax, linestyle='--', linewidth=4, colors='blue' , label=f'mean={mean}')\n",
        "plt.vlines(median, ymin=0, ymax=ymax, linestyle='--', linewidth=4, colors='green', label=f'median={median}')\n",
        "sns.distplot(review_length)\n",
        "\n",
        "plt.legend()\n",
        "plt.show()\n"
      ],
      "execution_count": 0,
      "outputs": []
    },
    {
      "cell_type": "code",
      "metadata": {
        "id": "KbjjrpF2ATDD",
        "colab_type": "code",
        "colab": {}
      },
      "source": [
        "from gensim.models import Phrases\n",
        "\n",
        "bigrams  = Phrases(sentences=all_reviews)\n",
        "trigrams = Phrases(sentences=bigrams[all_reviews])"
      ],
      "execution_count": 0,
      "outputs": []
    },
    {
      "cell_type": "markdown",
      "metadata": {
        "id": "ibG9Fj-9VyAK",
        "colab_type": "text"
      },
      "source": [
        "# Word Embedding"
      ]
    },
    {
      "cell_type": "code",
      "metadata": {
        "id": "33mes9L5VxcC",
        "colab_type": "code",
        "outputId": "aae8959c-f891-4c2d-c147-5df308b96b4f",
        "colab": {
          "base_uri": "https://localhost:8080/",
          "height": 68
        }
      },
      "source": [
        "%%time\n",
        "from gensim.models import Word2Vec\n",
        "from keras.preprocessing.sequence import pad_sequences\n",
        "\n",
        "embedded_size = 300\n",
        "embedding = Word2Vec(sentences=trigrams[bigrams[all_reviews]],\n",
        "                     size=embedded_size, window=5, min_count=3, workers=-1)\n",
        "\n",
        "print('Vocabulary size: {}'.format(len(embedding.wv.vocab)))"
      ],
      "execution_count": 7,
      "outputs": [
        {
          "output_type": "stream",
          "text": [
            "Vocabulary size: 194802\n",
            "CPU times: user 3min 59s, sys: 625 ms, total: 3min 59s\n",
            "Wall time: 3min 59s\n"
          ],
          "name": "stdout"
        }
      ]
    },
    {
      "cell_type": "code",
      "metadata": {
        "id": "yHKlzo31ATDA",
        "colab_type": "code",
        "colab": {}
      },
      "source": [
        "train_size = labeled_ds_size\n",
        "train_data = train_df[:train_size]\n",
        "train_x, train_y = train_data['review_tokenized'].values.copy(), train_data['sentiment'].values.copy()\n",
        "# train  , valid   = pp.train_valid_split(train_df[:train_size], split=0.95, seed=0)\n",
        "# train_x, valid_x = train.review_tokenized.values.copy(), valid.review_tokenized.values.copy()\n",
        "# train_y, valid_y = train.sentiment.values.copy()       , valid.sentiment.values.copy()\n",
        "\n",
        "from sklearn.model_selection import train_test_split\n",
        "\n",
        "train_x, valid_x, train_y, valid_y = train_test_split(train_x, train_y, test_size=0.05, shuffle=True, random_state=42)"
      ],
      "execution_count": 0,
      "outputs": []
    },
    {
      "cell_type": "code",
      "metadata": {
        "id": "JigICJVNLirz",
        "colab_type": "code",
        "outputId": "edffdfdf-d44d-4e09-dc42-0118947ea725",
        "colab": {
          "base_uri": "https://localhost:8080/",
          "height": 51
        }
      },
      "source": [
        "def vectorized_sentence(reviews, vocab):\n",
        "    print('Vectorizing words.....', end='\\r')\n",
        "    \n",
        "    keys           = list(vocab.keys())\n",
        "    filter_unknown = lambda word  : vocab.get(word, None) is not None\n",
        "    encode         = lambda review: list(map(keys.index, filter(filter_unknown, review)))\n",
        "    vectorized     = list(map(encode, reviews))\n",
        "    \n",
        "    print('Vectorizing words..... (done)')\n",
        "    \n",
        "    return vectorized\n",
        "\n",
        "\n",
        "vocab   = embedding.wv.vocab\n",
        "train_x = vectorized_sentence(trigrams[bigrams[train_x]], vocab)\n",
        "valid_x = vectorized_sentence(trigrams[bigrams[valid_x]], vocab)\n",
        "\n",
        "pad_length  = 150 \n",
        "train_pad_x = pad_sequences(sequences=train_x, maxlen=pad_length, padding='post')\n",
        "valid_pad_x = pad_sequences(sequences=valid_x, maxlen=pad_length, padding='post')"
      ],
      "execution_count": 9,
      "outputs": [
        {
          "output_type": "stream",
          "text": [
            "Vectorizing words..... (done)\n",
            "Vectorizing words..... (done)\n"
          ],
          "name": "stdout"
        }
      ]
    },
    {
      "cell_type": "markdown",
      "metadata": {
        "id": "UNJqTCsHzAxs",
        "colab_type": "text"
      },
      "source": [
        "# Model Development"
      ]
    },
    {
      "cell_type": "code",
      "metadata": {
        "id": "ylyS0P4rATDH",
        "colab_type": "code",
        "colab": {}
      },
      "source": [
        "import tensorflow as tf\n",
        "\n",
        "from keras.models            import Sequential\n",
        "from keras.layers            import Dense, Dropout, Bidirectional, LSTM\n",
        "from keras.layers.embeddings import Embedding\n",
        "from keras.optimizers        import Adam\n",
        "from keras.callbacks         import TensorBoard, LearningRateScheduler, Callback\n",
        "\n",
        "\n",
        "def Bidirectional_LSTM(embedding_matrix, input_length):\n",
        "    embedding_layer = Embedding(embedding_matrix.shape[0],\n",
        "                                embedding_matrix.shape[1], \n",
        "                                input_length=input_length,\n",
        "                                weights=[embedding_matrix],\n",
        "                                trainable=False)\n",
        "    model = Sequential()\n",
        "    model.add(embedding_layer)\n",
        "    model.add(Bidirectional(LSTM(128, recurrent_dropout=0.1)))\n",
        "    model.add(Dropout(0.25))\n",
        "    model.add(Dense(64))\n",
        "    model.add(Dropout(0.3))\n",
        "    model.add(Dense(1, activation='sigmoid'))\n",
        "    \n",
        "    return model\n",
        "\n",
        "def lr_scheduler(epochs):\n",
        "    lr = 0.001\n",
        "    \n",
        "    if epochs > 20  : lr = 0.0003;\n",
        "    elif epochs > 40: lr = 0.0001;\n",
        "    elif epochs > 60: lr = 0.00003;\n",
        "        \n",
        "#     tf.summary_scalar('learning_rate', data=lr, step=epochs)\n",
        "    \n",
        "    return lr\n",
        "\n",
        "class LossCallback(Callback):\n",
        "    def on_train_begin(self, logs={}):\n",
        "        self.history = []\n",
        "        \n",
        "    def on_batch_end(self, batch, logs={}):\n",
        "        self.history.append(logs.get('loss'))\n"
      ],
      "execution_count": 0,
      "outputs": []
    },
    {
      "cell_type": "code",
      "metadata": {
        "id": "-IsySMx8ATDJ",
        "colab_type": "code",
        "outputId": "b5003a48-6949-469c-9a3b-ece5181e5d61",
        "colab": {
          "base_uri": "https://localhost:8080/",
          "height": 887
        }
      },
      "source": [
        "net   = Bidirectional_LSTM(embedding.wv.vectors, pad_length)\n",
        "optim = Adam(lr=0.0003, decay=0.2)\n",
        "net.compile(loss='binary_crossentropy', optimizer=optim, metrics=['accuracy'])\n",
        "net.summary()"
      ],
      "execution_count": 11,
      "outputs": [
        {
          "output_type": "stream",
          "text": [
            "WARNING:tensorflow:From /usr/local/lib/python3.6/dist-packages/keras/backend/tensorflow_backend.py:66: The name tf.get_default_graph is deprecated. Please use tf.compat.v1.get_default_graph instead.\n",
            "\n",
            "WARNING:tensorflow:From /usr/local/lib/python3.6/dist-packages/keras/backend/tensorflow_backend.py:541: The name tf.placeholder is deprecated. Please use tf.compat.v1.placeholder instead.\n",
            "\n",
            "WARNING:tensorflow:From /usr/local/lib/python3.6/dist-packages/keras/backend/tensorflow_backend.py:4432: The name tf.random_uniform is deprecated. Please use tf.random.uniform instead.\n",
            "\n",
            "WARNING:tensorflow:From /usr/local/lib/python3.6/dist-packages/keras/backend/tensorflow_backend.py:190: The name tf.get_default_session is deprecated. Please use tf.compat.v1.get_default_session instead.\n",
            "\n",
            "WARNING:tensorflow:From /usr/local/lib/python3.6/dist-packages/keras/backend/tensorflow_backend.py:197: The name tf.ConfigProto is deprecated. Please use tf.compat.v1.ConfigProto instead.\n",
            "\n",
            "WARNING:tensorflow:From /usr/local/lib/python3.6/dist-packages/keras/backend/tensorflow_backend.py:203: The name tf.Session is deprecated. Please use tf.compat.v1.Session instead.\n",
            "\n",
            "WARNING:tensorflow:From /usr/local/lib/python3.6/dist-packages/keras/backend/tensorflow_backend.py:207: The name tf.global_variables is deprecated. Please use tf.compat.v1.global_variables instead.\n",
            "\n",
            "WARNING:tensorflow:From /usr/local/lib/python3.6/dist-packages/keras/backend/tensorflow_backend.py:216: The name tf.is_variable_initialized is deprecated. Please use tf.compat.v1.is_variable_initialized instead.\n",
            "\n",
            "WARNING:tensorflow:From /usr/local/lib/python3.6/dist-packages/keras/backend/tensorflow_backend.py:223: The name tf.variables_initializer is deprecated. Please use tf.compat.v1.variables_initializer instead.\n",
            "\n",
            "WARNING:tensorflow:From /usr/local/lib/python3.6/dist-packages/keras/backend/tensorflow_backend.py:148: The name tf.placeholder_with_default is deprecated. Please use tf.compat.v1.placeholder_with_default instead.\n",
            "\n",
            "WARNING:tensorflow:From /usr/local/lib/python3.6/dist-packages/keras/backend/tensorflow_backend.py:3733: calling dropout (from tensorflow.python.ops.nn_ops) with keep_prob is deprecated and will be removed in a future version.\n",
            "Instructions for updating:\n",
            "Please use `rate` instead of `keep_prob`. Rate should be set to `rate = 1 - keep_prob`.\n",
            "WARNING:tensorflow:From /usr/local/lib/python3.6/dist-packages/keras/optimizers.py:793: The name tf.train.Optimizer is deprecated. Please use tf.compat.v1.train.Optimizer instead.\n",
            "\n",
            "WARNING:tensorflow:From /usr/local/lib/python3.6/dist-packages/keras/backend/tensorflow_backend.py:3657: The name tf.log is deprecated. Please use tf.math.log instead.\n",
            "\n",
            "WARNING:tensorflow:From /usr/local/lib/python3.6/dist-packages/tensorflow_core/python/ops/nn_impl.py:183: where (from tensorflow.python.ops.array_ops) is deprecated and will be removed in a future version.\n",
            "Instructions for updating:\n",
            "Use tf.where in 2.0, which has the same broadcast rule as np.where\n",
            "Model: \"sequential_1\"\n",
            "_________________________________________________________________\n",
            "Layer (type)                 Output Shape              Param #   \n",
            "=================================================================\n",
            "embedding_1 (Embedding)      (None, 150, 300)          58440600  \n",
            "_________________________________________________________________\n",
            "bidirectional_1 (Bidirection (None, 256)               439296    \n",
            "_________________________________________________________________\n",
            "dropout_1 (Dropout)          (None, 256)               0         \n",
            "_________________________________________________________________\n",
            "dense_1 (Dense)              (None, 64)                16448     \n",
            "_________________________________________________________________\n",
            "dropout_2 (Dropout)          (None, 64)                0         \n",
            "_________________________________________________________________\n",
            "dense_2 (Dense)              (None, 1)                 65        \n",
            "=================================================================\n",
            "Total params: 58,896,409\n",
            "Trainable params: 455,809\n",
            "Non-trainable params: 58,440,600\n",
            "_________________________________________________________________\n"
          ],
          "name": "stdout"
        }
      ]
    },
    {
      "cell_type": "code",
      "metadata": {
        "id": "EEpkQTUdATDL",
        "colab_type": "code",
        "colab": {}
      },
      "source": [
        "epochs       = 200\n",
        "batch_size   = 200\n",
        "log_dir      = '/content/sample_data/'\n",
        "tb_callbacks = TensorBoard(log_dir=log_dir + 'accuracy/')\n",
        "ls_callbacks = LossCallback()\n",
        "\n",
        "# lr_writer    = tf.summary.create_file_writer(log_dir + 'dynamic_lr/')\n",
        "lr_callbacks = LearningRateScheduler(lr_scheduler)"
      ],
      "execution_count": 0,
      "outputs": []
    },
    {
      "cell_type": "code",
      "metadata": {
        "id": "Aw2oYsqHgfb-",
        "colab_type": "code",
        "outputId": "801cf9f2-158c-416b-e7d8-e2b8d839a694",
        "colab": {
          "base_uri": "https://localhost:8080/",
          "height": 207
        }
      },
      "source": [
        "%%time\n",
        "\n",
        "print('Training....', end='\\r')\n",
        "\n",
        "history = net.fit(x=train_pad_x, \n",
        "                y=train_y, \n",
        "                validation_data=(valid_pad_x, valid_y), \n",
        "                batch_size=batch_size, \n",
        "                epochs=200,\n",
        "                verbose=0,\n",
        "                callbacks=[tb_callbacks])\n",
        "\n",
        "print('Training.... (Done)')\n",
        "print('Average Loss:', np.average(ls_callbacks.history))\n"
      ],
      "execution_count": 0,
      "outputs": [
        {
          "output_type": "stream",
          "text": [
            "Training....\rWARNING:tensorflow:From /usr/local/lib/python3.6/dist-packages/keras/backend/tensorflow_backend.py:1033: The name tf.assign_add is deprecated. Please use tf.compat.v1.assign_add instead.\n",
            "\n",
            "WARNING:tensorflow:From /usr/local/lib/python3.6/dist-packages/keras/backend/tensorflow_backend.py:1020: The name tf.assign is deprecated. Please use tf.compat.v1.assign instead.\n",
            "\n",
            "WARNING:tensorflow:From /usr/local/lib/python3.6/dist-packages/keras/callbacks.py:1122: The name tf.summary.merge_all is deprecated. Please use tf.compat.v1.summary.merge_all instead.\n",
            "\n",
            "WARNING:tensorflow:From /usr/local/lib/python3.6/dist-packages/keras/callbacks.py:1125: The name tf.summary.FileWriter is deprecated. Please use tf.compat.v1.summary.FileWriter instead.\n",
            "\n",
            "WARNING:tensorflow:From /usr/local/lib/python3.6/dist-packages/keras/callbacks.py:1265: The name tf.Summary is deprecated. Please use tf.compat.v1.Summary instead.\n",
            "\n"
          ],
          "name": "stdout"
        }
      ]
    },
    {
      "cell_type": "code",
      "metadata": {
        "id": "FW6M9TWnATDM",
        "colab_type": "code",
        "colab": {}
      },
      "source": [
        "f model_save(model):\n",
        "#     # save the model\n",
        "#     model_json = model.to_jason()\n",
        "    \n",
        "#     # save the model parameters to json file\n",
        "#     with open('gdrive/My Drive/dataset/IMDB/model.json', 'w') as json_file:\n",
        "#         json_file.write(net_json)\n",
        "        \n",
        "    # save the weights to h5 file\n",
        "    model.save_weights('gdrive/My Drive/dataset/IMDB/model.h5')\n",
        "    \n",
        "model_save(net)\n"
      ],
      "execution_count": 0,
      "outputs": []
    },
    {
      "cell_type": "markdown",
      "metadata": {
        "id": "tlanJLcsLVjB",
        "colab_type": "text"
      },
      "source": [
        "# Metrics"
      ]
    },
    {
      "cell_type": "code",
      "metadata": {
        "id": "WSlaJksvATDV",
        "colab_type": "code",
        "colab": {}
      },
      "source": [
        "from sklearn.metrics import confusion_matrix as cm\n",
        "from sklearn.metrics import roc_curve, auc\n",
        "\n",
        "val_y_   = net.predict(val_pad_x)\n",
        "\n",
        "plt.figure(figsize=(16,8))\n",
        "plt.title('Confusion matrix on Validation set')\n",
        "plt.xlabel('Predicted')\n",
        "plt.ylabel('Ground Truth')\n",
        "sns.heatmap(cm(val_y, val_y_))\n",
        "plt.show()\n"
      ],
      "execution_count": 0,
      "outputs": []
    },
    {
      "cell_type": "code",
      "metadata": {
        "id": "e3j8V6NjATDX",
        "colab_type": "code",
        "colab": {
          "base_uri": "https://localhost:8080/",
          "height": 215
        },
        "outputId": "282a6c50-74a1-4def-acfc-388005374120"
      },
      "source": [
        "fpr, tpr, threshold = roc_curve(val_y, val_y_)\n",
        "auc_score = auc(fpr, tpr)\n",
        "\n",
        "plt.figure(figsize=(16,8))\n",
        "plt.title('AUC, ROC score')\n",
        "plt.xlabel('False Positive Rate')\n",
        "plt.ylabel('True Positive Rate')\n",
        "plt.plot(fpr, tpr, label=f\"AUC score: {auc_score}\")\n",
        "plt.show()"
      ],
      "execution_count": 14,
      "outputs": [
        {
          "output_type": "error",
          "ename": "NameError",
          "evalue": "ignored",
          "traceback": [
            "\u001b[0;31m---------------------------------------------------------------------------\u001b[0m",
            "\u001b[0;31mNameError\u001b[0m                                 Traceback (most recent call last)",
            "\u001b[0;32m<ipython-input-14-91d7786c77dd>\u001b[0m in \u001b[0;36m<module>\u001b[0;34m()\u001b[0m\n\u001b[0;32m----> 1\u001b[0;31m \u001b[0mfpr\u001b[0m\u001b[0;34m,\u001b[0m \u001b[0mtpr\u001b[0m\u001b[0;34m,\u001b[0m \u001b[0mthreshold\u001b[0m \u001b[0;34m=\u001b[0m \u001b[0mroc_curve\u001b[0m\u001b[0;34m(\u001b[0m\u001b[0mval_y\u001b[0m\u001b[0;34m,\u001b[0m \u001b[0mval_y_\u001b[0m\u001b[0;34m)\u001b[0m\u001b[0;34m\u001b[0m\u001b[0;34m\u001b[0m\u001b[0m\n\u001b[0m\u001b[1;32m      2\u001b[0m \u001b[0;34m\u001b[0m\u001b[0m\n\u001b[1;32m      3\u001b[0m \u001b[0mplt\u001b[0m\u001b[0;34m.\u001b[0m\u001b[0mfigure\u001b[0m\u001b[0;34m(\u001b[0m\u001b[0mfigsize\u001b[0m\u001b[0;34m=\u001b[0m\u001b[0;34m(\u001b[0m\u001b[0;36m16\u001b[0m\u001b[0;34m,\u001b[0m\u001b[0;36m8\u001b[0m\u001b[0;34m)\u001b[0m\u001b[0;34m)\u001b[0m\u001b[0;34m\u001b[0m\u001b[0;34m\u001b[0m\u001b[0m\n\u001b[1;32m      4\u001b[0m \u001b[0mplt\u001b[0m\u001b[0;34m.\u001b[0m\u001b[0mshow\u001b[0m\u001b[0;34m(\u001b[0m\u001b[0;34m)\u001b[0m\u001b[0;34m\u001b[0m\u001b[0;34m\u001b[0m\u001b[0m\n",
            "\u001b[0;31mNameError\u001b[0m: name 'roc_curve' is not defined"
          ]
        }
      ]
    },
    {
      "cell_type": "code",
      "metadata": {
        "id": "yCcZY8_HATDb",
        "colab_type": "code",
        "colab": {}
      },
      "source": [
        ""
      ],
      "execution_count": 0,
      "outputs": []
    },
    {
      "cell_type": "code",
      "metadata": {
        "id": "WYYGQIuRATDd",
        "colab_type": "code",
        "colab": {}
      },
      "source": [
        ""
      ],
      "execution_count": 0,
      "outputs": []
    },
    {
      "cell_type": "code",
      "metadata": {
        "id": "crCn4WQcATDf",
        "colab_type": "code",
        "colab": {}
      },
      "source": [
        ""
      ],
      "execution_count": 0,
      "outputs": []
    },
    {
      "cell_type": "code",
      "metadata": {
        "id": "KfI5ynknATDi",
        "colab_type": "code",
        "colab": {}
      },
      "source": [
        ""
      ],
      "execution_count": 0,
      "outputs": []
    },
    {
      "cell_type": "code",
      "metadata": {
        "id": "EJ1tvvG0ATDk",
        "colab_type": "code",
        "colab": {}
      },
      "source": [
        ""
      ],
      "execution_count": 0,
      "outputs": []
    },
    {
      "cell_type": "code",
      "metadata": {
        "id": "7M4MRJL-ATDl",
        "colab_type": "code",
        "colab": {}
      },
      "source": [
        ""
      ],
      "execution_count": 0,
      "outputs": []
    },
    {
      "cell_type": "code",
      "metadata": {
        "id": "kQgUxxinATDm",
        "colab_type": "code",
        "colab": {}
      },
      "source": [
        ""
      ],
      "execution_count": 0,
      "outputs": []
    },
    {
      "cell_type": "code",
      "metadata": {
        "id": "wokkp68fATDo",
        "colab_type": "code",
        "colab": {}
      },
      "source": [
        ""
      ],
      "execution_count": 0,
      "outputs": []
    },
    {
      "cell_type": "code",
      "metadata": {
        "id": "HLcMmZ_oATDp",
        "colab_type": "code",
        "colab": {}
      },
      "source": [
        ""
      ],
      "execution_count": 0,
      "outputs": []
    }
  ]
}